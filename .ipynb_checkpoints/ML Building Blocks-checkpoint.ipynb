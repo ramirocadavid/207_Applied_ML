{
 "cells": [
  {
   "cell_type": "code",
   "execution_count": 1,
   "metadata": {},
   "outputs": [],
   "source": [
    "\"\"\"\n",
    "Practical - Set up environment for ML\n",
    "\"\"\"\n",
    "import matplotlib.pyplot as plt\n",
    "import numpy as np\n",
    "from sklearn import datasets, linear_model\n",
    "from sklearn.metrics import mean_squared_error, r2_score\n",
    "%matplotlib inline"
   ]
  },
  {
   "cell_type": "code",
   "execution_count": 8,
   "metadata": {},
   "outputs": [],
   "source": [
    "\"\"\"\n",
    "Load Data\n",
    "\"\"\"\n",
    "diabetes = datasets.load_diabetes()"
   ]
  },
  {
   "cell_type": "code",
   "execution_count": 9,
   "metadata": {},
   "outputs": [],
   "source": [
    "\"\"\"\n",
    "Clean & Transform Data\n",
    "\n",
    "For demonstration, we'll just use the first column of the diabetes data, which is normalized age\n",
    "\"\"\"\n",
    "diabetes_X = diabetes.data[:, np.newaxis, 2]"
   ]
  },
  {
   "cell_type": "code",
   "execution_count": 12,
   "metadata": {},
   "outputs": [],
   "source": [
    "\"\"\"\n",
    "Split data into train and test data sets\n",
    "\"\"\"\n",
    "split_index = -20\n",
    "# Split Features\n",
    "diabetes_X_train = diabetes_X[:split_index]\n",
    "diabetes_X_test = diabetes_X[split_index:]\n",
    "\n",
    "# Split Labels\n",
    "diabetes_y_train = diabetes.target[:split_index]\n",
    "diabetes_y_test = diabetes.target[split_index:]"
   ]
  },
  {
   "cell_type": "code",
   "execution_count": 13,
   "metadata": {},
   "outputs": [
    {
     "data": {
      "text/plain": [
       "LinearRegression(copy_X=True, fit_intercept=True, n_jobs=None,\n",
       "         normalize=False)"
      ]
     },
     "execution_count": 13,
     "metadata": {},
     "output_type": "execute_result"
    }
   ],
   "source": [
    "\"\"\"\n",
    "Train Model\n",
    "\"\"\"\n",
    "# Initialize model\n",
    "regr = linear_model.LinearRegression()\n",
    "\n",
    "# Train the model using the training sets\n",
    "regr.fit(diabetes_X_train, diabetes_y_train)"
   ]
  },
  {
   "cell_type": "code",
   "execution_count": 14,
   "metadata": {},
   "outputs": [],
   "source": [
    "\"\"\"\n",
    "Make Predictions with Model\n",
    "\"\"\"\n",
    "# Note, we only use the test features!!\n",
    "diabetes_y_pred = regr.predict(diabetes_X_test)"
   ]
  },
  {
   "cell_type": "code",
   "execution_count": 7,
   "metadata": {},
   "outputs": [
    {
     "name": "stdout",
     "output_type": "stream",
     "text": [
      "Mean squared error: 2548.07\n",
      "Variance score: 0.47\n"
     ]
    }
   ],
   "source": [
    "\"\"\"\n",
    "Evaluate Model\n",
    "\"\"\"\n",
    "print(\"Mean squared error: %.2f\" % mean_squared_error(diabetes_y_test, diabetes_y_pred))\n",
    "print('Variance score: %.2f' % r2_score(diabetes_y_test, diabetes_y_pred))"
   ]
  },
  {
   "cell_type": "code",
   "execution_count": 15,
   "metadata": {},
   "outputs": [
    {
     "data": {
      "image/png": "[encoded data removed]",
      "text/plain": [
       "<Figure size 432x288 with 1 Axes>"
      ]
     },
     "metadata": {},
     "output_type": "display_data"
    }
   ],
   "source": [
    "\"\"\"\n",
    "Quick Peak at the data ..... who knows\n",
    "\"\"\"\n",
    "plt.scatter(diabetes_X_test, diabetes_y_test,  color='black')\n",
    "plt.plot(diabetes_X_test, diabetes_y_pred, color='blue', linewidth=3)\n",
    "\n",
    "plt.xticks(())\n",
    "plt.yticks(())\n",
    "\n",
    "plt.show()"
   ]
  },
  {
   "cell_type": "code",
   "execution_count": 47,
   "metadata": {},
   "outputs": [],
   "source": [
    "\"\"\"\n",
    "Complete Pipeline all at once\n",
    "\"\"\"\n",
    "\n",
    "def run_complete_pipeline(split_index=-20):\n",
    "    \"\"\"All steps necessary to run a basic regression prediction on diabetic patients.\n",
    "    \n",
    "    Kwargs:\n",
    "        split_index(int): how many rows to reserve for testing\n",
    "        \n",
    "    Returns:\n",
    "        (float): mean squared error\n",
    "    \"\"\"\n",
    "    # Load\n",
    "    diabetes = datasets.load_diabetes()\n",
    "\n",
    "    # Transform\n",
    "    diabetes_X = diabetes.data[:, np.newaxis, 2]\n",
    "\n",
    "    # Split\n",
    "    diabetes_X_train = diabetes_X[:split_index]\n",
    "    diabetes_X_test = diabetes_X[split_index:]\n",
    "    diabetes_y_train = diabetes.target[:split_index]\n",
    "    diabetes_y_test = diabetes.target[split_index:]\n",
    "\n",
    "    # Train\n",
    "    regr = linear_model.LinearRegression()\n",
    "    regr.fit(diabetes_X_train, diabetes_y_train)\n",
    "\n",
    "    # Predict\n",
    "    diabetes_y_pred = regr.predict(diabetes_X_test)\n",
    "    \n",
    "    # Evaluate\n",
    "    return mean_squared_error(diabetes_y_test, diabetes_y_pred)"
   ]
  },
  {
   "cell_type": "code",
   "execution_count": 46,
   "metadata": {},
   "outputs": [
    {
     "name": "stdout",
     "output_type": "stream",
     "text": [
      "MSE = 2548.07\n",
      "R^2 = 0.47\n"
     ]
    }
   ],
   "source": [
    "\"\"\"\n",
    "Complete pipeline (RC)\n",
    "\"\"\"\n",
    "\n",
    "# load\n",
    "diabetes = datasets.load_diabetes()\n",
    "\n",
    "# Transform\n",
    "diabetes_X = diabetes.data[:, np.newaxis, 2]\n",
    "\n",
    "# Split\n",
    "split_index = -20\n",
    "diabetes_X_test = diabetes_X[split_index:]\n",
    "diabetes_Y_test = diabetes.target[split_index:]\n",
    "diabetes_X_training = diabetes_X[:split_index]\n",
    "diabetes_Y_training = diabetes.target[:split_index]\n",
    "\n",
    "# Create model\n",
    "regr = linear_model.LinearRegression()\n",
    "\n",
    "# Train model\n",
    "regr.fit(diabetes_X_training, diabetes_Y_training)\n",
    "\n",
    "# Predict\n",
    "diabetes_Y_predict = regr.predict(diabetes_X_test)\n",
    "\n",
    "# Evaluate\n",
    "print(\"MSE = {0:.2f}\".format(mean_squared_error(diabetes_Y_test, diabetes_Y_predict)))\n",
    "print(\"R^2 = {0:.2f}\".format(r2_score(diabetes_Y_test, diabetes_Y_predict)))"
   ]
  },
  {
   "cell_type": "code",
   "execution_count": 49,
   "metadata": {},
   "outputs": [
    {
     "name": "stderr",
     "output_type": "stream",
     "text": [
      "C:\\Users\\ramir\\Anaconda3\\lib\\site-packages\\matplotlib\\figure.py:445: UserWarning: Matplotlib is currently using module://ipykernel.pylab.backend_inline, which is a non-GUI backend, so cannot show the figure.\n",
      "  % get_backend())\n"
     ]
    },
    {
     "data": {
      "image/png": "[encoded data removed]",
      "text/plain": [
       "<Figure size 720x576 with 1 Axes>"
      ]
     },
     "metadata": {
      "needs_background": "light"
     },
     "output_type": "display_data"
    }
   ],
   "source": [
    "\"\"\"\n",
    "Show the variation in performance, just with the simple split_index technique\n",
    "\"\"\"\n",
    "performance = [run_complete_pipeline(i) for i in range(-10, -50, -2)]\n",
    "\n",
    "# Plot variation\n",
    "fig = plt.figure(figsize=(10, 8))\n",
    "ax = fig.add_subplot(111)\n",
    "bins = ax.hist(performance)\n",
    "ax.set_xlabel('Mean Squared Error', size='x-large')\n",
    "ax.set_ylabel('Number of Models', size='x-large')\n",
    "ax.set_title('Variation in Performance of Regression for Diabetic Data', size='x-large')\n",
    "fig.show()"
   ]
  }
 ],
 "metadata": {
  "kernelspec": {
   "display_name": "Python 3",
   "language": "python",
   "name": "python3"
  },
  "language_info": {
   "codemirror_mode": {
    "name": "ipython",
    "version": 3
   },
   "file_extension": ".py",
   "mimetype": "text/x-python",
   "name": "python",
   "nbconvert_exporter": "python",
   "pygments_lexer": "ipython3",
   "version": "3.7.1"
  }
 },
 "nbformat": 4,
 "nbformat_minor": 2
}
