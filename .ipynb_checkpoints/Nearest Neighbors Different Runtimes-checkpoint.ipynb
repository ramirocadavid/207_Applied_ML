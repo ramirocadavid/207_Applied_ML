{
 "cells": [
  {
   "cell_type": "code",
   "execution_count": 1,
   "metadata": {},
   "outputs": [],
   "source": [
    "\"\"\"\n",
    "This notebook runs two different versions of finding all nearest\n",
    "neighbors in a randomly generated set of points.\n",
    "\n",
    "Change the dimensions of the points and size of data set to\n",
    "see how the runtime is impacted\n",
    "\"\"\"\n",
    "\n",
    "import random\n",
    "from sklearn.neighbors import NearestNeighbors\n",
    "import numpy as np\n",
    "\n",
    "\n",
    "def generate_points(n_points, dimensions):\n",
    "    \"\"\"Generates poin\n",
    "    \n",
    "    Args:\n",
    "        n_points (int): number of points to generate\n",
    "        dimensions (int): number of dimensions each point lives in\n",
    "        \n",
    "    Returns:\n",
    "        list\n",
    "    \"\"\"\n",
    "    def gen_point(d):\n",
    "        return [random.random() for i in range(d)]\n",
    "    \n",
    "    return [gen_point(dimensions) for i in range(n_points)]\n",
    "\n",
    "def distance(p1, p2):\n",
    "    return sum((i - j)**2 for (i, j) in zip(p1, p2))**0.5"
   ]
  },
  {
   "cell_type": "code",
   "execution_count": 2,
   "metadata": {},
   "outputs": [],
   "source": [
    "# Naive Implementation O(n^2)\n",
    "def naive_get_nearest_neighbor(all_points, start_point):\n",
    "    \"\"\"Find the nearest point the start_point inside of all_points\n",
    "    \n",
    "    Args:\n",
    "        all_points (list of points): all available points for comparison\n",
    "        start_point (vector): a single point to center the rest of data set around\n",
    "        \n",
    "    Return:\n",
    "        vector, of the closest point\n",
    "    \"\"\"\n",
    "    closest = all_points[0]\n",
    "    d_closest = distance(closest, start_point)\n",
    "    for point in all_points[1:]:\n",
    "        d_candidate = distance(point, start_point)\n",
    "        if d_candidate < d_closest:\n",
    "            closest = point\n",
    "            d_closest = d_candidate\n",
    "            \n",
    "    return closest\n",
    "\n",
    "\n",
    "def naive_get_all_nn(data):\n",
    "    return [naive_get_nearest_neighbor(data, point) for point in data]"
   ]
  },
  {
   "cell_type": "code",
   "execution_count": 3,
   "metadata": {},
   "outputs": [],
   "source": [
    "# Hash points to buckets and then look for nearest neighbors\n",
    "\"\"\"\n",
    "Two known bugs, nearest neighbors are returned in a scrambled order - need an index to\n",
    "straighten out. The hashing is not loss-less, it has trouble with boundary conditions.\n",
    "\"\"\"\n",
    "from collections import defaultdict\n",
    "hash_vectors = generate_points(3, 10)\n",
    "\n",
    "def compare(v1, v2):\n",
    "    over_under = sum(1 if i > j else 0 for (i, j) in zip(v1, v2)) - 5\n",
    "    return 1 if over_under > 0 else -1\n",
    "\n",
    "def hash_point(point):\n",
    "    return (compare(point, h) for h in hash_vectors)\n",
    "\n",
    "def hashed_get_all_nn(data):\n",
    "    buckets = defaultdict(list)\n",
    "    for point in data:\n",
    "        buckets[hash_point(point)].append(point)\n",
    "        \n",
    "    # Note this is slightly buggy as returned in in correct order\n",
    "    return [naive_get_all_nn(points) for points in buckets.values()]"
   ]
  },
  {
   "cell_type": "code",
   "execution_count": 4,
   "metadata": {},
   "outputs": [],
   "source": [
    "# Built in Nearest Neighbors\n",
    "def built_in_get_all_nn(data):\n",
    "    X = np.array(data)\n",
    "    nbrs = NearestNeighbors(n_neighbors=1, algorithm='ball_tree').fit(X)\n",
    "    return nbrs.kneighbors(X)[0]"
   ]
  },
  {
   "cell_type": "code",
   "execution_count": 6,
   "metadata": {},
   "outputs": [
    {
     "name": "stdout",
     "output_type": "stream",
     "text": [
      "\n",
      "Naive\n",
      "Wall time: 997 µs\n",
      "\n",
      "Hashed\n",
      "Wall time: 0 ns\n",
      "\n",
      "Built In\n",
      "Wall time: 998 µs\n"
     ]
    }
   ],
   "source": [
    "# Make sure they all run - basic baby problem\n",
    "data = generate_points(10**1, 10)\n",
    "\n",
    "print('\\nNaive')\n",
    "%time naive_nn = naive_get_all_nn(data)\n",
    "\n",
    "print('\\nHashed')\n",
    "%time hashed_nn = hashed_get_all_nn(data)\n",
    "\n",
    "print('\\nBuilt In')\n",
    "%time built_in_nn = built_in_get_all_nn(data)"
   ]
  },
  {
   "cell_type": "code",
   "execution_count": 7,
   "metadata": {},
   "outputs": [
    {
     "name": "stdout",
     "output_type": "stream",
     "text": [
      "Naive\n",
      "Wall time: 74.6 ms\n",
      "\n",
      "Hashed\n",
      "Wall time: 1 ms\n",
      "\n",
      "Built In\n",
      "Wall time: 1.91 ms\n"
     ]
    }
   ],
   "source": [
    "# Slightly Larger\n",
    "data = generate_points(10**2, 10)\n",
    "\n",
    "print('Naive')\n",
    "%time naive_nn = naive_get_all_nn(data)\n",
    "\n",
    "print('\\nHashed')\n",
    "%time hashed_nn = hashed_get_all_nn(data)\n",
    "\n",
    "print('\\nBuilt In')\n",
    "%time built_in_nn = built_in_get_all_nn(data)"
   ]
  },
  {
   "cell_type": "code",
   "execution_count": 8,
   "metadata": {},
   "outputs": [
    {
     "name": "stdout",
     "output_type": "stream",
     "text": [
      "Naive\n",
      "Wall time: 7.45 s\n"
     ]
    }
   ],
   "source": [
    "# Make sure they all work\n",
    "data = generate_points(10**3, 10)\n",
    "\n",
    "print('Naive')\n",
    "%time naive_nn = naive_get_all_nn(data)"
   ]
  },
  {
   "cell_type": "code",
   "execution_count": 9,
   "metadata": {},
   "outputs": [
    {
     "name": "stdout",
     "output_type": "stream",
     "text": [
      "Hashed\n",
      "Wall time: 11.9 ms\n"
     ]
    }
   ],
   "source": [
    "print('Hashed')\n",
    "%time hashed_nn = hashed_get_all_nn(data)"
   ]
  },
  {
   "cell_type": "code",
   "execution_count": 10,
   "metadata": {},
   "outputs": [
    {
     "name": "stdout",
     "output_type": "stream",
     "text": [
      "Built In\n",
      "Wall time: 33.9 ms\n"
     ]
    }
   ],
   "source": [
    "print('Built In')\n",
    "%time built_in_nn = built_in_get_all_nn(data)"
   ]
  },
  {
   "cell_type": "code",
   "execution_count": 11,
   "metadata": {},
   "outputs": [],
   "source": [
    "# Let's try bigger data\n",
    "data = generate_points(10**4, 10)"
   ]
  },
  {
   "cell_type": "code",
   "execution_count": null,
   "metadata": {},
   "outputs": [
    {
     "name": "stdout",
     "output_type": "stream",
     "text": [
      "Naive\n"
     ]
    }
   ],
   "source": [
    "print('Naive')\n",
    "%time naive_nn = naive_get_all_nn(data)"
   ]
  },
  {
   "cell_type": "code",
   "execution_count": 13,
   "metadata": {},
   "outputs": [
    {
     "name": "stdout",
     "output_type": "stream",
     "text": [
      "Hashed\n",
      "CPU times: user 99.1 ms, sys: 7.24 ms, total: 106 ms\n",
      "Wall time: 105 ms\n"
     ]
    }
   ],
   "source": [
    "print('Hashed')\n",
    "%time hashed_nn = hashed_get_all_nn(data)"
   ]
  },
  {
   "cell_type": "code",
   "execution_count": 14,
   "metadata": {},
   "outputs": [
    {
     "name": "stdout",
     "output_type": "stream",
     "text": [
      "Built In\n",
      "CPU times: user 885 ms, sys: 5.55 ms, total: 891 ms\n",
      "Wall time: 892 ms\n"
     ]
    }
   ],
   "source": [
    "print('Built In')\n",
    "%time built_in_nn = built_in_get_all_nn(data)"
   ]
  }
 ],
 "metadata": {
  "kernelspec": {
   "display_name": "Python 3",
   "language": "python",
   "name": "python3"
  },
  "language_info": {
   "codemirror_mode": {
    "name": "ipython",
    "version": 3
   },
   "file_extension": ".py",
   "mimetype": "text/x-python",
   "name": "python",
   "nbconvert_exporter": "python",
   "pygments_lexer": "ipython3",
   "version": "3.7.1"
  }
 },
 "nbformat": 4,
 "nbformat_minor": 2
}
